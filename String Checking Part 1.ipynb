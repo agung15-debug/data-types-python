{
 "cells": [
  {
   "cell_type": "markdown",
   "id": "087b66aa",
   "metadata": {},
   "source": [
    "# Check If Lowercase"
   ]
  },
  {
   "cell_type": "markdown",
   "id": "0b1ecd7c",
   "metadata": {},
   "source": [
    "The isupper() method is checks whether all the case-based characters (letters) of the string are uppercase and it will be returned True if all characters on a string are in uppercase and False if otherwise"
   ]
  },
  {
   "cell_type": "code",
   "execution_count": 1,
   "id": "6f8a1790",
   "metadata": {},
   "outputs": [],
   "source": [
    "a = \"Team 3\""
   ]
  },
  {
   "cell_type": "code",
   "execution_count": 3,
   "id": "0f4b847c",
   "metadata": {},
   "outputs": [
    {
     "data": {
      "text/plain": [
       "True"
      ]
     },
     "execution_count": 3,
     "metadata": {},
     "output_type": "execute_result"
    }
   ],
   "source": [
    "a.islower()"
   ]
  },
  {
   "cell_type": "markdown",
   "id": "f71951ce",
   "metadata": {},
   "source": [
    "# Check If Uppercase"
   ]
  },
  {
   "cell_type": "markdown",
   "id": "75b7901a",
   "metadata": {},
   "source": [
    "The islower() method is checks whether all the case-based characters (letters) of the string are lowercase and it will be returned True if all characters on a string are in lowercase and False if otherwise"
   ]
  },
  {
   "cell_type": "code",
   "execution_count": 2,
   "id": "2b57c0e2",
   "metadata": {},
   "outputs": [],
   "source": [
    "b = \"TEAM 3\""
   ]
  },
  {
   "cell_type": "code",
   "execution_count": 3,
   "id": "f4668589",
   "metadata": {},
   "outputs": [
    {
     "data": {
      "text/plain": [
       "True"
      ]
     },
     "execution_count": 3,
     "metadata": {},
     "output_type": "execute_result"
    }
   ],
   "source": [
    "b.isupper()"
   ]
  },
  {
   "cell_type": "code",
   "execution_count": 7,
   "id": "8dac76cc",
   "metadata": {},
   "outputs": [],
   "source": [
    "c = \"We are Team 3\""
   ]
  },
  {
   "cell_type": "code",
   "execution_count": 8,
   "id": "248154bb",
   "metadata": {},
   "outputs": [
    {
     "data": {
      "text/plain": [
       "False"
      ]
     },
     "execution_count": 8,
     "metadata": {},
     "output_type": "execute_result"
    }
   ],
   "source": [
    "c.upper().lower().isupper()"
   ]
  },
  {
   "cell_type": "code",
   "execution_count": 9,
   "id": "cd876ec2",
   "metadata": {},
   "outputs": [
    {
     "data": {
      "text/plain": [
       "True"
      ]
     },
     "execution_count": 9,
     "metadata": {},
     "output_type": "execute_result"
    }
   ],
   "source": [
    "c.lower().upper().isupper()"
   ]
  }
 ],
 "metadata": {
  "kernelspec": {
   "display_name": "Python 3 (ipykernel)",
   "language": "python",
   "name": "python3"
  },
  "language_info": {
   "codemirror_mode": {
    "name": "ipython",
    "version": 3
   },
   "file_extension": ".py",
   "mimetype": "text/x-python",
   "name": "python",
   "nbconvert_exporter": "python",
   "pygments_lexer": "ipython3",
   "version": "3.9.7"
  }
 },
 "nbformat": 4,
 "nbformat_minor": 5
}
