{
 "cells": [
  {
   "cell_type": "markdown",
   "id": "1ed37b9d",
   "metadata": {},
   "source": [
    "# zfill()"
   ]
  },
  {
   "cell_type": "markdown",
   "id": "b511dc9d",
   "metadata": {},
   "source": [
    "* A method that can add a numeric value of 0 to the left of a number or string using zfill()\n",
    "* The use of the zfill() method can be applied to invoice numbers or queue numbers\n",
    "* The number of characters must be less than or equal to the zfill value."
   ]
  },
  {
   "cell_type": "code",
   "execution_count": 2,
   "id": "de9ae378",
   "metadata": {},
   "outputs": [],
   "source": [
    "a = 8"
   ]
  },
  {
   "cell_type": "code",
   "execution_count": 1,
   "id": "81bd6a09",
   "metadata": {},
   "outputs": [
    {
     "data": {
      "text/plain": [
       "'008'"
      ]
     },
     "execution_count": 1,
     "metadata": {},
     "output_type": "execute_result"
    }
   ],
   "source": [
    "str(8).zfill(3)"
   ]
  },
  {
   "cell_type": "code",
   "execution_count": 2,
   "id": "73b882bf",
   "metadata": {},
   "outputs": [],
   "source": [
    "b=\"150\""
   ]
  },
  {
   "cell_type": "code",
   "execution_count": 7,
   "id": "bd1c29dc",
   "metadata": {},
   "outputs": [
    {
     "data": {
      "text/plain": [
       "'00150'"
      ]
     },
     "execution_count": 7,
     "metadata": {},
     "output_type": "execute_result"
    }
   ],
   "source": [
    "b.zfill(5)"
   ]
  },
  {
   "cell_type": "code",
   "execution_count": 5,
   "id": "ee46d0a9",
   "metadata": {},
   "outputs": [],
   "source": [
    "c = -1.75"
   ]
  },
  {
   "cell_type": "code",
   "execution_count": 6,
   "id": "2736b341",
   "metadata": {},
   "outputs": [
    {
     "data": {
      "text/plain": [
       "'-1.75'"
      ]
     },
     "execution_count": 6,
     "metadata": {},
     "output_type": "execute_result"
    }
   ],
   "source": [
    "str(c).zfill(5)"
   ]
  },
  {
   "cell_type": "code",
   "execution_count": 15,
   "id": "27ee9d1e",
   "metadata": {},
   "outputs": [],
   "source": [
    "d = -0.25"
   ]
  },
  {
   "cell_type": "code",
   "execution_count": 17,
   "id": "e037ad7d",
   "metadata": {},
   "outputs": [
    {
     "data": {
      "text/plain": [
       "'-000.25'"
      ]
     },
     "execution_count": 17,
     "metadata": {},
     "output_type": "execute_result"
    }
   ],
   "source": [
    "str(d).zfill(7)"
   ]
  },
  {
   "cell_type": "markdown",
   "id": "0285aeed",
   "metadata": {},
   "source": [
    "Applied zfill() method to string"
   ]
  },
  {
   "cell_type": "code",
   "execution_count": 8,
   "id": "6364d4e2",
   "metadata": {},
   "outputs": [],
   "source": [
    "a = \"He\""
   ]
  },
  {
   "cell_type": "code",
   "execution_count": 9,
   "id": "0182f0d9",
   "metadata": {},
   "outputs": [
    {
     "data": {
      "text/plain": [
       "'0000He'"
      ]
     },
     "execution_count": 9,
     "metadata": {},
     "output_type": "execute_result"
    }
   ],
   "source": [
    "a.zfill(6)"
   ]
  },
  {
   "cell_type": "code",
   "execution_count": 12,
   "id": "01d95dce",
   "metadata": {},
   "outputs": [],
   "source": [
    "b = \"Bicycle\""
   ]
  },
  {
   "cell_type": "code",
   "execution_count": 14,
   "id": "8f8e1697",
   "metadata": {},
   "outputs": [
    {
     "data": {
      "text/plain": [
       "'0Bicycle'"
      ]
     },
     "execution_count": 14,
     "metadata": {},
     "output_type": "execute_result"
    }
   ],
   "source": [
    "b.zfill(8)"
   ]
  },
  {
   "cell_type": "code",
   "execution_count": 15,
   "id": "ea5e6c8b",
   "metadata": {},
   "outputs": [],
   "source": [
    "c = 'Foryou'"
   ]
  },
  {
   "cell_type": "code",
   "execution_count": 16,
   "id": "da63234d",
   "metadata": {},
   "outputs": [
    {
     "data": {
      "text/plain": [
       "'Foryou'"
      ]
     },
     "execution_count": 16,
     "metadata": {},
     "output_type": "execute_result"
    }
   ],
   "source": [
    "c.zfill(6)"
   ]
  },
  {
   "cell_type": "markdown",
   "id": "68a61d0b",
   "metadata": {},
   "source": [
    "# Left/right/center aligned text with rjust(), ljust(), and center()"
   ]
  },
  {
   "cell_type": "markdown",
   "id": "5dd72833",
   "metadata": {},
   "source": [
    "rjust()\n",
    "\n",
    "* The rjust() method is used to make the text right-align\n",
    "* This method will add a space to the string to make it match\n",
    "* The parameter is an integer which is the overall length of the text (not the number of spaces added)\n",
    "* We can replace whitespace with other symbols by entering the second parameter."
   ]
  },
  {
   "cell_type": "code",
   "execution_count": 18,
   "id": "f09da193",
   "metadata": {},
   "outputs": [
    {
     "data": {
      "text/plain": [
       "'      Love'"
      ]
     },
     "execution_count": 18,
     "metadata": {},
     "output_type": "execute_result"
    }
   ],
   "source": [
    "\"Love\".rjust(10)"
   ]
  },
  {
   "cell_type": "code",
   "execution_count": 19,
   "id": "e3a9407c",
   "metadata": {},
   "outputs": [
    {
     "data": {
      "text/plain": [
       "'~~~~~~Love'"
      ]
     },
     "execution_count": 19,
     "metadata": {},
     "output_type": "execute_result"
    }
   ],
   "source": [
    "\"Love\".rjust(10,\"~\")"
   ]
  },
  {
   "cell_type": "code",
   "execution_count": 20,
   "id": "b652463e",
   "metadata": {},
   "outputs": [],
   "source": [
    "a = \"Love\".rjust(10)"
   ]
  },
  {
   "cell_type": "code",
   "execution_count": 21,
   "id": "3a86617f",
   "metadata": {},
   "outputs": [
    {
     "data": {
      "text/plain": [
       "10"
      ]
     },
     "execution_count": 21,
     "metadata": {},
     "output_type": "execute_result"
    }
   ],
   "source": [
    "len(a)"
   ]
  },
  {
   "cell_type": "markdown",
   "id": "2cefa335",
   "metadata": {},
   "source": [
    "ljust()"
   ]
  },
  {
   "cell_type": "markdown",
   "id": "b2a43db3",
   "metadata": {},
   "source": [
    "* The ljust() method is used to make the text left-align\n",
    "* This method will add a space to the string to make it match\n",
    "* The parameter is an integer which is the overall length of the text (not the number of spaces added)\n",
    "* We can replace whitespace with other symbols by entering the second parameter."
   ]
  },
  {
   "cell_type": "code",
   "execution_count": 22,
   "id": "aadb5509",
   "metadata": {},
   "outputs": [
    {
     "data": {
      "text/plain": [
       "'Love      '"
      ]
     },
     "execution_count": 22,
     "metadata": {},
     "output_type": "execute_result"
    }
   ],
   "source": [
    "\"Love\".ljust(10)"
   ]
  },
  {
   "cell_type": "code",
   "execution_count": 23,
   "id": "64062a88",
   "metadata": {},
   "outputs": [
    {
     "data": {
      "text/plain": [
       "'Love~~~~~~'"
      ]
     },
     "execution_count": 23,
     "metadata": {},
     "output_type": "execute_result"
    }
   ],
   "source": [
    "\"Love\".ljust(10,\"~\")"
   ]
  },
  {
   "cell_type": "code",
   "execution_count": 24,
   "id": "cb93260d",
   "metadata": {},
   "outputs": [],
   "source": [
    "b = \"Love\".ljust(10)"
   ]
  },
  {
   "cell_type": "code",
   "execution_count": 25,
   "id": "73458b89",
   "metadata": {},
   "outputs": [
    {
     "data": {
      "text/plain": [
       "10"
      ]
     },
     "execution_count": 25,
     "metadata": {},
     "output_type": "execute_result"
    }
   ],
   "source": [
    "len(b)"
   ]
  },
  {
   "cell_type": "markdown",
   "id": "f3fd8e84",
   "metadata": {},
   "source": [
    "center()"
   ]
  },
  {
   "cell_type": "markdown",
   "id": "6b49a441",
   "metadata": {},
   "source": [
    "* The center() method is used to make the text center\n",
    "* This method will add a space to the string to make it match\n",
    "* The parameter is an integer which is the overall length of the text (not the number of spaces added)\n",
    "* We can replace whitespace with other symbols by entering the second parameter."
   ]
  },
  {
   "cell_type": "code",
   "execution_count": 26,
   "id": "f619a671",
   "metadata": {},
   "outputs": [
    {
     "data": {
      "text/plain": [
       "'   Love   '"
      ]
     },
     "execution_count": 26,
     "metadata": {},
     "output_type": "execute_result"
    }
   ],
   "source": [
    "\"Love\".center(10)"
   ]
  },
  {
   "cell_type": "code",
   "execution_count": 27,
   "id": "f61ee988",
   "metadata": {},
   "outputs": [
    {
     "data": {
      "text/plain": [
       "'---Love---'"
      ]
     },
     "execution_count": 27,
     "metadata": {},
     "output_type": "execute_result"
    }
   ],
   "source": [
    "\"Love\".center(10,\"-\")"
   ]
  },
  {
   "cell_type": "code",
   "execution_count": 28,
   "id": "39f4a7bb",
   "metadata": {},
   "outputs": [],
   "source": [
    "c = \"Love\".center(10)"
   ]
  },
  {
   "cell_type": "code",
   "execution_count": 29,
   "id": "5965e309",
   "metadata": {},
   "outputs": [
    {
     "data": {
      "text/plain": [
       "10"
      ]
     },
     "execution_count": 29,
     "metadata": {},
     "output_type": "execute_result"
    }
   ],
   "source": [
    "len(c)"
   ]
  },
  {
   "cell_type": "markdown",
   "id": "5f70665c",
   "metadata": {},
   "source": [
    "# String literals"
   ]
  },
  {
   "cell_type": "markdown",
   "id": "4e9ba6dc",
   "metadata": {},
   "source": [
    "Generally, strings are written easily in Python, enclosed in single quotes. But under certain conditions, it takes a single quote in the middle of the string."
   ]
  },
  {
   "cell_type": "code",
   "execution_count": 30,
   "id": "1b6d76ff",
   "metadata": {},
   "outputs": [
    {
     "data": {
      "text/plain": [
       "\"I'm\""
      ]
     },
     "execution_count": 30,
     "metadata": {},
     "output_type": "execute_result"
    }
   ],
   "source": [
    "\"I'm\""
   ]
  },
  {
   "cell_type": "code",
   "execution_count": 32,
   "id": "e7c469e0",
   "metadata": {},
   "outputs": [
    {
     "ename": "SyntaxError",
     "evalue": "invalid syntax (728171397.py, line 3)",
     "output_type": "error",
     "traceback": [
      "\u001b[1;36m  Input \u001b[1;32mIn [32]\u001b[1;36m\u001b[0m\n\u001b[1;33m    print('I'm')\u001b[0m\n\u001b[1;37m             ^\u001b[0m\n\u001b[1;31mSyntaxError\u001b[0m\u001b[1;31m:\u001b[0m invalid syntax\n"
     ]
    }
   ],
   "source": [
    " # It will error because the quotation marks (') after the letter \"m\" can not be read.\n",
    "    \n",
    "print('I'm') "
   ]
  },
  {
   "cell_type": "markdown",
   "id": "a5cba4a2",
   "metadata": {},
   "source": [
    "## Enscape Character"
   ]
  },
  {
   "cell_type": "markdown",
   "id": "3795d031",
   "metadata": {},
   "source": [
    "Escape Character is backslash allows us to include the characters ' and \" in the string part."
   ]
  },
  {
   "cell_type": "code",
   "execution_count": 33,
   "id": "c7146bdb",
   "metadata": {},
   "outputs": [
    {
     "data": {
      "text/plain": [
       "\"I'am\""
      ]
     },
     "execution_count": 33,
     "metadata": {},
     "output_type": "execute_result"
    }
   ],
   "source": [
    "'I\\'am'"
   ]
  },
  {
   "cell_type": "code",
   "execution_count": 34,
   "id": "b0f081f7",
   "metadata": {},
   "outputs": [
    {
     "data": {
      "text/plain": [
       "'I\"am'"
      ]
     },
     "execution_count": 34,
     "metadata": {},
     "output_type": "execute_result"
    }
   ],
   "source": [
    "\"I\\\"am\""
   ]
  },
  {
   "cell_type": "markdown",
   "id": "7ed7b35e",
   "metadata": {},
   "source": [
    "## Raw Strings"
   ]
  },
  {
   "cell_type": "markdown",
   "id": "ce30432b",
   "metadata": {},
   "source": [
    "Python also provides a way to print strings according to whatever input or text given.\n",
    "\n",
    "To implement raw strings, start with the letter \"r\" before the string opener."
   ]
  },
  {
   "cell_type": "code",
   "execution_count": 35,
   "id": "acf3cda6",
   "metadata": {},
   "outputs": [
    {
     "name": "stdout",
     "output_type": "stream",
     "text": [
      "Python Programming\\tLanguage\n"
     ]
    }
   ],
   "source": [
    "print(r\"Python Programming\\tLanguage\")"
   ]
  },
  {
   "cell_type": "markdown",
   "id": "bc063d20",
   "metadata": {},
   "source": [
    "Supposedly, the \\t command will create a tab, but since we are using raw strings, the sentence is a printed request."
   ]
  },
  {
   "cell_type": "code",
   "execution_count": 36,
   "id": "18d5be40",
   "metadata": {},
   "outputs": [
    {
     "name": "stdout",
     "output_type": "stream",
     "text": [
      "Python\tProgramming\n"
     ]
    }
   ],
   "source": [
    "print(\"Python\\tProgramming\")"
   ]
  },
  {
   "cell_type": "code",
   "execution_count": 37,
   "id": "6e333305",
   "metadata": {},
   "outputs": [
    {
     "name": "stdout",
     "output_type": "stream",
     "text": [
      "Python\\tProgramming\n"
     ]
    }
   ],
   "source": [
    "print(r\"Python\\tProgramming\")"
   ]
  }
 ],
 "metadata": {
  "kernelspec": {
   "display_name": "Python 3 (ipykernel)",
   "language": "python",
   "name": "python3"
  },
  "language_info": {
   "codemirror_mode": {
    "name": "ipython",
    "version": 3
   },
   "file_extension": ".py",
   "mimetype": "text/x-python",
   "name": "python",
   "nbconvert_exporter": "python",
   "pygments_lexer": "ipython3",
   "version": "3.9.12"
  }
 },
 "nbformat": 4,
 "nbformat_minor": 5
}
