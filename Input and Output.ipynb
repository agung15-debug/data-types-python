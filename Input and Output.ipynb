{
 "cells": [
  {
   "cell_type": "markdown",
   "id": "d4e56354",
   "metadata": {},
   "source": [
    "# Output"
   ]
  },
  {
   "cell_type": "markdown",
   "id": "e6e45ab3",
   "metadata": {},
   "source": [
    "We use print() function to output data to standard output device(screen)."
   ]
  },
  {
   "cell_type": "code",
   "execution_count": 8,
   "id": "a008c302",
   "metadata": {},
   "outputs": [
    {
     "name": "stdout",
     "output_type": "stream",
     "text": [
      "This sentense is sample\n"
     ]
    }
   ],
   "source": [
    "print(\"This sentense is sample\")"
   ]
  },
  {
   "cell_type": "markdown",
   "id": "a67689ed",
   "metadata": {},
   "source": [
    "# Output Formatting"
   ]
  },
  {
   "cell_type": "markdown",
   "id": "fad43f28",
   "metadata": {},
   "source": [
    "Sometimes we would like to format our output to make it look attractive. this can be done by using str.format() method. This method is visible to any string object. This is example of that :"
   ]
  },
  {
   "cell_type": "code",
   "execution_count": 9,
   "id": "e6d04e20",
   "metadata": {},
   "outputs": [
    {
     "name": "stdout",
     "output_type": "stream",
     "text": [
      "The Value of a is 20 and b is 21 and result from multiply that values is 420 \n"
     ]
    }
   ],
   "source": [
    "a = 20\n",
    "b = 21\n",
    "c = a*b\n",
    "print(\"The Value of a is {} and b is {} and result from multiply that values is {} \".format(a,b,c))"
   ]
  },
  {
   "cell_type": "markdown",
   "id": "135da39c",
   "metadata": {},
   "source": [
    "# Input"
   ]
  },
  {
   "cell_type": "markdown",
   "id": "ff3f159d",
   "metadata": {},
   "source": [
    "To allow flexibility. We might want to take input from the user. In python, we have the input() function to allow this."
   ]
  },
  {
   "cell_type": "code",
   "execution_count": 1,
   "id": "56cd490b",
   "metadata": {},
   "outputs": [
    {
     "name": "stdout",
     "output_type": "stream",
     "text": [
      "Enter your name :Agung\n"
     ]
    }
   ],
   "source": [
    "name = input(\"Enter your name :\")"
   ]
  },
  {
   "cell_type": "code",
   "execution_count": 2,
   "id": "820fe72e",
   "metadata": {},
   "outputs": [
    {
     "name": "stdout",
     "output_type": "stream",
     "text": [
      "Your Name is Agung\n"
     ]
    }
   ],
   "source": [
    "print(\"Your Name is\", name)"
   ]
  },
  {
   "cell_type": "code",
   "execution_count": 3,
   "id": "26994482",
   "metadata": {},
   "outputs": [
    {
     "name": "stdout",
     "output_type": "stream",
     "text": [
      "Enter Your Age : 21\n"
     ]
    }
   ],
   "source": [
    "age = int(input(\"Enter Your Age : \"))"
   ]
  },
  {
   "cell_type": "code",
   "execution_count": 4,
   "id": "d347b267",
   "metadata": {},
   "outputs": [
    {
     "name": "stdout",
     "output_type": "stream",
     "text": [
      "Agung's age is 21 years old\n"
     ]
    }
   ],
   "source": [
    "print(\"%s's age is %i years old\"%(name, age))"
   ]
  },
  {
   "cell_type": "code",
   "execution_count": 5,
   "id": "21ac72ab",
   "metadata": {},
   "outputs": [
    {
     "name": "stdout",
     "output_type": "stream",
     "text": [
      "Enter your height in cm : 162.4\n"
     ]
    }
   ],
   "source": [
    "height = float(input(\"Enter your height in cm : \"))"
   ]
  },
  {
   "cell_type": "code",
   "execution_count": 7,
   "id": "76e83c88",
   "metadata": {},
   "outputs": [
    {
     "name": "stdout",
     "output_type": "stream",
     "text": [
      "Your height is 162.40\n"
     ]
    }
   ],
   "source": [
    "print(\"Your height is %.2f\"%(height))"
   ]
  }
 ],
 "metadata": {
  "kernelspec": {
   "display_name": "Python 3 (ipykernel)",
   "language": "python",
   "name": "python3"
  },
  "language_info": {
   "codemirror_mode": {
    "name": "ipython",
    "version": 3
   },
   "file_extension": ".py",
   "mimetype": "text/x-python",
   "name": "python",
   "nbconvert_exporter": "python",
   "pygments_lexer": "ipython3",
   "version": "3.9.7"
  }
 },
 "nbformat": 4,
 "nbformat_minor": 5
}
