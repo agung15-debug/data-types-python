{
 "cells": [
  {
   "cell_type": "markdown",
   "metadata": {},
   "source": [
    "## DEL Keyword\n",
    "The del keyword is used to delete an object or an element in an object"
   ]
  },
  {
   "cell_type": "code",
   "execution_count": 30,
   "metadata": {},
   "outputs": [
    {
     "name": "stdout",
     "output_type": "stream",
     "text": [
      "[1, 4]\n"
     ]
    }
   ],
   "source": [
    "number = [\n",
    "    1,3,4\n",
    "]\n",
    "\n",
    "del number[1]\n",
    "\n",
    "print(number)"
   ]
  },
  {
   "cell_type": "markdown",
   "metadata": {},
   "source": [
    "## len()\n",
    "the len() method will return the sum of the total items in an object. on a string, this function will return the number of characters"
   ]
  },
  {
   "cell_type": "code",
   "execution_count": 33,
   "metadata": {},
   "outputs": [
    {
     "data": {
      "text/plain": [
       "10"
      ]
     },
     "execution_count": 33,
     "metadata": {},
     "output_type": "execute_result"
    }
   ],
   "source": [
    "numberX =[\n",
    "    23,1,523,623,63,73,5,2,34,5\n",
    "]\n",
    "\n",
    "len(numberX)"
   ]
  },
  {
   "cell_type": "markdown",
   "metadata": {},
   "source": [
    "## append()\n",
    "The append() method is used to add an item at the end of an object"
   ]
  },
  {
   "cell_type": "code",
   "execution_count": 35,
   "metadata": {},
   "outputs": [
    {
     "name": "stdout",
     "output_type": "stream",
     "text": [
      "['dog', 'cat', 'bird']\n"
     ]
    }
   ],
   "source": [
    "animal = [\n",
    "    'dog', 'cat', 'bird'\n",
    "]\n",
    "animal.append('fish')\n",
    "print(animal)"
   ]
  },
  {
   "cell_type": "markdown",
   "metadata": {},
   "source": [
    "## extend()\n",
    "The extend() method adds all elements of the iterable to the end of the list."
   ]
  },
  {
   "cell_type": "code",
   "execution_count": 36,
   "metadata": {},
   "outputs": [
    {
     "name": "stdout",
     "output_type": "stream",
     "text": [
      "['red', 'blue', 'green', 'purple', 'yellow']\n"
     ]
    }
   ],
   "source": [
    "colour = [\n",
    "    'red', 'blue', 'green'\n",
    "]\n",
    "colour.extend(['purple', 'yellow'])\n",
    "print(colour)"
   ]
  },
  {
   "cell_type": "markdown",
   "metadata": {},
   "source": [
    "## insert()\n",
    "The insert() method inserts an element into the object according to the index specified in the parameter"
   ]
  },
  {
   "cell_type": "code",
   "execution_count": 37,
   "metadata": {},
   "outputs": [
    {
     "name": "stdout",
     "output_type": "stream",
     "text": [
      "['char', 'integer', 'float', 'varchar', 'string']\n"
     ]
    }
   ],
   "source": [
    "typeData = [\n",
    "    'char', 'integer', 'varchar', 'string'\n",
    "]\n",
    "\n",
    "typeData.insert(2, 'float')\n",
    "print(typeData)"
   ]
  },
  {
   "cell_type": "markdown",
   "metadata": {},
   "source": [
    "## remove()\n",
    "The remove() method removes the first element whose content is equal to the parameter value"
   ]
  },
  {
   "cell_type": "code",
   "execution_count": 39,
   "metadata": {},
   "outputs": [
    {
     "name": "stdout",
     "output_type": "stream",
     "text": [
      "['dog', 'cat', 'fish', 'bird', 'ant', 'plant']\n"
     ]
    }
   ],
   "source": [
    "animal2 = [\n",
    "    'dog','cat', 'fish', 'bird', 'ant', 'plant'\n",
    "]\n",
    "print(animal2)"
   ]
  },
  {
   "cell_type": "code",
   "execution_count": 40,
   "metadata": {},
   "outputs": [
    {
     "name": "stdout",
     "output_type": "stream",
     "text": [
      "['dog', 'cat', 'fish', 'bird', 'ant']\n"
     ]
    }
   ],
   "source": [
    "animal2.remove('plant')\n",
    "print(animal2)"
   ]
  },
  {
   "cell_type": "markdown",
   "metadata": {},
   "source": [
    "## pop()\n",
    "The pop() method removes the item according to the index in the parameter and returns the deleted value"
   ]
  },
  {
   "cell_type": "code",
   "execution_count": 41,
   "metadata": {},
   "outputs": [
    {
     "name": "stdout",
     "output_type": "stream",
     "text": [
      "['yellow', 'purple', 'red', 'blue', 'zinc']\n"
     ]
    }
   ],
   "source": [
    "colourX = [\n",
    "    'yellow', 'purple', 'red', 'blue', 'zinc'\n",
    "]\n",
    "print(colourX)"
   ]
  },
  {
   "cell_type": "code",
   "execution_count": 42,
   "metadata": {},
   "outputs": [
    {
     "name": "stdout",
     "output_type": "stream",
     "text": [
      "['yellow', 'purple', 'red', 'blue']\n"
     ]
    }
   ],
   "source": [
    "colourX.pop(4)\n",
    "print(colourX)"
   ]
  },
  {
   "cell_type": "markdown",
   "metadata": {},
   "source": [
    "## index()\n",
    "The index() method returns the index according to the value written in the parameter"
   ]
  },
  {
   "cell_type": "code",
   "execution_count": 43,
   "metadata": {},
   "outputs": [
    {
     "data": {
      "text/plain": [
       "4"
      ]
     },
     "execution_count": 43,
     "metadata": {},
     "output_type": "execute_result"
    }
   ],
   "source": [
    "colourX = [\n",
    "    'yellow', 'purple', 'red', 'blue', 'zinc'\n",
    "]\n",
    "colourX.index('zinc')"
   ]
  },
  {
   "cell_type": "markdown",
   "metadata": {},
   "source": [
    "## count()\n",
    "The count() method returns the number of elements in the object that have the same value in the parameter ."
   ]
  },
  {
   "cell_type": "code",
   "execution_count": 44,
   "metadata": {},
   "outputs": [
    {
     "data": {
      "text/plain": [
       "2"
      ]
     },
     "execution_count": 44,
     "metadata": {},
     "output_type": "execute_result"
    }
   ],
   "source": [
    "colourY = [\n",
    "    'black', 'yellow',\n",
    "    'red', 'black',\n",
    "    'purple', 'white'\n",
    "]\n",
    "\n",
    "colourY.count('black')"
   ]
  },
  {
   "cell_type": "markdown",
   "metadata": {},
   "source": [
    "## sort()\n",
    "The sort() method sorts the list items in ascending order by default"
   ]
  },
  {
   "cell_type": "code",
   "execution_count": 47,
   "metadata": {},
   "outputs": [
    {
     "name": "stdout",
     "output_type": "stream",
     "text": [
      "[1, 2, 5, 5, 23, 34, 63, 73, 523, 623]\n"
     ]
    }
   ],
   "source": [
    "numberX_2 =[\n",
    "    23,1,523,623,63,73,5,2,34,5\n",
    "]\n",
    "numberX_2.sort()\n",
    "print(numberX_2)"
   ]
  },
  {
   "cell_type": "markdown",
   "metadata": {},
   "source": [
    "## reverse()\n",
    "The reverse() method will return list from tail index to head"
   ]
  },
  {
   "cell_type": "code",
   "execution_count": 49,
   "metadata": {},
   "outputs": [
    {
     "name": "stdout",
     "output_type": "stream",
     "text": [
      "[5, 34, 2, 5, 73, 63, 623, 523, 1, 23]\n"
     ]
    }
   ],
   "source": [
    "numberX_2 =[\n",
    "    23,1,523,623,63,73,5,2,34,5\n",
    "]\n",
    "numberX_2.reverse()\n",
    "print(numberX_2)"
   ]
  }
 ],
 "metadata": {
  "kernelspec": {
   "display_name": "Python 3.10.2 64-bit",
   "language": "python",
   "name": "python3"
  },
  "language_info": {
   "codemirror_mode": {
    "name": "ipython",
    "version": 3
   },
   "file_extension": ".py",
   "mimetype": "text/x-python",
   "name": "python",
   "nbconvert_exporter": "python",
   "pygments_lexer": "ipython3",
   "version": "3.10.2"
  },
  "orig_nbformat": 4,
  "vscode": {
   "interpreter": {
    "hash": "26de051ba29f2982a8de78e945f0abaf191376122a1563185a90213a26c5da77"
   }
  }
 },
 "nbformat": 4,
 "nbformat_minor": 2
}
