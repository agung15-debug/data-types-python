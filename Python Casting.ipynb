{
 "cells": [
  {
   "cell_type": "markdown",
   "id": "89d9d24c",
   "metadata": {},
   "source": [
    "# Integer or String to Float"
   ]
  },
  {
   "cell_type": "markdown",
   "id": "6a637b04",
   "metadata": {},
   "source": [
    "float() - constructs a float number from an integer literal, a float literal or a string literal (providing the string represents a float or an integer)"
   ]
  },
  {
   "cell_type": "code",
   "execution_count": null,
   "id": "c6e4513a",
   "metadata": {},
   "outputs": [],
   "source": [
    "a = 3"
   ]
  },
  {
   "cell_type": "code",
   "execution_count": 4,
   "id": "8fd00889",
   "metadata": {},
   "outputs": [
    {
     "data": {
      "text/plain": [
       "int"
      ]
     },
     "execution_count": 4,
     "metadata": {},
     "output_type": "execute_result"
    }
   ],
   "source": [
    "type(a)"
   ]
  },
  {
   "cell_type": "code",
   "execution_count": 3,
   "id": "902631dc",
   "metadata": {},
   "outputs": [
    {
     "data": {
      "text/plain": [
       "3.0"
      ]
     },
     "execution_count": 3,
     "metadata": {},
     "output_type": "execute_result"
    }
   ],
   "source": [
    "float(a)"
   ]
  },
  {
   "cell_type": "code",
   "execution_count": 1,
   "id": "720a42cf",
   "metadata": {},
   "outputs": [],
   "source": [
    "b = \"2.08\""
   ]
  },
  {
   "cell_type": "code",
   "execution_count": 2,
   "id": "2cee77f1",
   "metadata": {},
   "outputs": [
    {
     "data": {
      "text/plain": [
       "str"
      ]
     },
     "execution_count": 2,
     "metadata": {},
     "output_type": "execute_result"
    }
   ],
   "source": [
    "type(b)"
   ]
  },
  {
   "cell_type": "code",
   "execution_count": 5,
   "id": "a6389e29",
   "metadata": {},
   "outputs": [
    {
     "data": {
      "text/plain": [
       "2.08"
      ]
     },
     "execution_count": 5,
     "metadata": {},
     "output_type": "execute_result"
    }
   ],
   "source": [
    "float(b)"
   ]
  },
  {
   "cell_type": "code",
   "execution_count": 4,
   "id": "4fd4c381",
   "metadata": {},
   "outputs": [
    {
     "data": {
      "text/plain": [
       "float"
      ]
     },
     "execution_count": 4,
     "metadata": {},
     "output_type": "execute_result"
    }
   ],
   "source": [
    "type(float(b))"
   ]
  },
  {
   "cell_type": "markdown",
   "id": "d9ae22ec",
   "metadata": {},
   "source": [
    "# Float or String to Integer"
   ]
  },
  {
   "cell_type": "markdown",
   "id": "3417bee1",
   "metadata": {},
   "source": [
    "constructs an integer number from an integer literal, a float literal (by removing all decimals), or a string literal (providing the string represents a whole number)"
   ]
  },
  {
   "cell_type": "code",
   "execution_count": 8,
   "id": "080cab84",
   "metadata": {},
   "outputs": [],
   "source": [
    "b = 3.8"
   ]
  },
  {
   "cell_type": "code",
   "execution_count": 9,
   "id": "b81db610",
   "metadata": {},
   "outputs": [
    {
     "data": {
      "text/plain": [
       "float"
      ]
     },
     "execution_count": 9,
     "metadata": {},
     "output_type": "execute_result"
    }
   ],
   "source": [
    "type(b)"
   ]
  },
  {
   "cell_type": "code",
   "execution_count": 10,
   "id": "3c7115c8",
   "metadata": {},
   "outputs": [],
   "source": [
    "c = int(b)"
   ]
  },
  {
   "cell_type": "code",
   "execution_count": 11,
   "id": "006d1415",
   "metadata": {},
   "outputs": [
    {
     "data": {
      "text/plain": [
       "int"
      ]
     },
     "execution_count": 11,
     "metadata": {},
     "output_type": "execute_result"
    }
   ],
   "source": [
    "type(c)"
   ]
  },
  {
   "cell_type": "code",
   "execution_count": 6,
   "id": "e20b840e",
   "metadata": {},
   "outputs": [],
   "source": [
    "d = \"5\""
   ]
  },
  {
   "cell_type": "code",
   "execution_count": 7,
   "id": "de59e2e6",
   "metadata": {},
   "outputs": [
    {
     "data": {
      "text/plain": [
       "str"
      ]
     },
     "execution_count": 7,
     "metadata": {},
     "output_type": "execute_result"
    }
   ],
   "source": [
    "type(d)"
   ]
  },
  {
   "cell_type": "code",
   "execution_count": 8,
   "id": "1ce3fde7",
   "metadata": {},
   "outputs": [
    {
     "data": {
      "text/plain": [
       "int"
      ]
     },
     "execution_count": 8,
     "metadata": {},
     "output_type": "execute_result"
    }
   ],
   "source": [
    "e = int(d)\n",
    "type(e)"
   ]
  }
 ],
 "metadata": {
  "kernelspec": {
   "display_name": "Python 3 (ipykernel)",
   "language": "python",
   "name": "python3"
  },
  "language_info": {
   "codemirror_mode": {
    "name": "ipython",
    "version": 3
   },
   "file_extension": ".py",
   "mimetype": "text/x-python",
   "name": "python",
   "nbconvert_exporter": "python",
   "pygments_lexer": "ipython3",
   "version": "3.9.7"
  }
 },
 "nbformat": 4,
 "nbformat_minor": 5
}
