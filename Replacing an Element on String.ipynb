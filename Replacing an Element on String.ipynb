{
 "cells": [
  {
   "cell_type": "markdown",
   "id": "41c7fcea",
   "metadata": {},
   "source": [
    "# Replacing a Phrase"
   ]
  },
  {
   "cell_type": "markdown",
   "id": "fcc6ca35",
   "metadata": {},
   "source": [
    "The replace() method replaces each matching occurrence of the old character/text in the string with the new character/text. it takes maximum 3 parameter"
   ]
  },
  {
   "cell_type": "code",
   "execution_count": 1,
   "id": "9d9af9b1",
   "metadata": {},
   "outputs": [],
   "source": [
    "a = \"Today is Saturday\""
   ]
  },
  {
   "cell_type": "code",
   "execution_count": 2,
   "id": "c9be54a7",
   "metadata": {},
   "outputs": [
    {
     "data": {
      "text/plain": [
       "'Today is Sunday'"
      ]
     },
     "execution_count": 2,
     "metadata": {},
     "output_type": "execute_result"
    }
   ],
   "source": [
    "a.replace(\"Saturday\", \"Sunday\")"
   ]
  },
  {
   "cell_type": "code",
   "execution_count": 3,
   "id": "64b902da",
   "metadata": {},
   "outputs": [],
   "source": [
    "b = \"Yesterday is Saturday, Today is Saturday\""
   ]
  },
  {
   "cell_type": "code",
   "execution_count": 4,
   "id": "3fd26b88",
   "metadata": {},
   "outputs": [
    {
     "data": {
      "text/plain": [
       "'Yesterday is Sunday, Today is Sunday'"
      ]
     },
     "execution_count": 4,
     "metadata": {},
     "output_type": "execute_result"
    }
   ],
   "source": [
    "b.replace(\"Saturday\", \"Sunday\", 2)"
   ]
  }
 ],
 "metadata": {
  "kernelspec": {
   "display_name": "Python 3 (ipykernel)",
   "language": "python",
   "name": "python3"
  },
  "language_info": {
   "codemirror_mode": {
    "name": "ipython",
    "version": 3
   },
   "file_extension": ".py",
   "mimetype": "text/x-python",
   "name": "python",
   "nbconvert_exporter": "python",
   "pygments_lexer": "ipython3",
   "version": "3.9.7"
  }
 },
 "nbformat": 4,
 "nbformat_minor": 5
}
