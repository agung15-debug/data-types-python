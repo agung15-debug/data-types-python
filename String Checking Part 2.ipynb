{
 "cells": [
  {
   "cell_type": "markdown",
   "id": "c7ff32e2",
   "metadata": {},
   "source": [
    "# isalpha()"
   ]
  },
  {
   "cell_type": "markdown",
   "id": "d963d03d",
   "metadata": {},
   "source": [
    "This method will return True if all characters are letters of the alphabet. Otherwise, it will return a False value.\n",
    "\n",
    "Example for isalpha() method:"
   ]
  },
  {
   "cell_type": "code",
   "execution_count": 5,
   "id": "30b4d915",
   "metadata": {},
   "outputs": [
    {
     "name": "stdout",
     "output_type": "stream",
     "text": [
      "True\n"
     ]
    }
   ],
   "source": [
    "# Example 1\n",
    "\n",
    "print(\"Python\".isalpha())"
   ]
  },
  {
   "cell_type": "code",
   "execution_count": 6,
   "id": "46b3e0de",
   "metadata": {},
   "outputs": [
    {
     "name": "stdout",
     "output_type": "stream",
     "text": [
      "False\n"
     ]
    }
   ],
   "source": [
    "# Example 2\n",
    "\n",
    "print(\"Python03\".isalpha())"
   ]
  },
  {
   "cell_type": "code",
   "execution_count": 7,
   "id": "46a9ca9e",
   "metadata": {},
   "outputs": [
    {
     "name": "stdout",
     "output_type": "stream",
     "text": [
      "False\n"
     ]
    }
   ],
   "source": [
    "# Example 3\n",
    "\n",
    "print(\"Python Programming\".isalpha())"
   ]
  },
  {
   "cell_type": "markdown",
   "id": "e2962041",
   "metadata": {},
   "source": [
    "Note:\n",
    "\n",
    "* Example 1 is True because the word \"Data\" is the alphabet.\n",
    "* Example 2 is False because the word \"Data123\" contains numeric. \n",
    "* Example 3 is False because the word \"Python Programming\" contains whitespace"
   ]
  },
  {
   "cell_type": "markdown",
   "id": "a8ea46d4",
   "metadata": {},
   "source": [
    "# isalnum()"
   ]
  },
  {
   "cell_type": "markdown",
   "id": "072a3e7e",
   "metadata": {},
   "source": [
    "This function will return True if the characters in the string are alphanumerical, it is contain only letters or numbers only or contain both. Otherwise, it will return a False value."
   ]
  },
  {
   "cell_type": "code",
   "execution_count": 13,
   "id": "ae371e59",
   "metadata": {},
   "outputs": [
    {
     "name": "stdout",
     "output_type": "stream",
     "text": [
      "True\n"
     ]
    }
   ],
   "source": [
    "#Example 1\n",
    "\n",
    "print(\"Data\".isalnum())"
   ]
  },
  {
   "cell_type": "code",
   "execution_count": 14,
   "id": "a565619b",
   "metadata": {},
   "outputs": [
    {
     "name": "stdout",
     "output_type": "stream",
     "text": [
      "True\n"
     ]
    }
   ],
   "source": [
    "#Example 2\n",
    "\n",
    "print(\"2022\".isalnum())"
   ]
  },
  {
   "cell_type": "code",
   "execution_count": 15,
   "id": "c9bc04b5",
   "metadata": {},
   "outputs": [
    {
     "name": "stdout",
     "output_type": "stream",
     "text": [
      "True\n"
     ]
    }
   ],
   "source": [
    "#Example 3\n",
    "\n",
    "print(\"Data123\".isalnum())"
   ]
  },
  {
   "cell_type": "code",
   "execution_count": 16,
   "id": "f5b70667",
   "metadata": {},
   "outputs": [
    {
     "name": "stdout",
     "output_type": "stream",
     "text": [
      "False\n"
     ]
    }
   ],
   "source": [
    "#Example 4\n",
    "\n",
    "print(\"Data 123\".isalpha()) "
   ]
  },
  {
   "cell_type": "markdown",
   "id": "72b2e881",
   "metadata": {},
   "source": [
    "Noted:\n",
    "\n",
    "* Example 4 is False because in word \"Data 123\" contains whitespace"
   ]
  },
  {
   "cell_type": "markdown",
   "id": "ec955137",
   "metadata": {},
   "source": [
    "# isdecimal()"
   ]
  },
  {
   "cell_type": "markdown",
   "id": "58cfe224",
   "metadata": {},
   "source": [
    "This function will return True if the characters in the string are numeric or numeric only. Otherwise, it will return a False value."
   ]
  },
  {
   "cell_type": "code",
   "execution_count": 17,
   "id": "f64c5f65",
   "metadata": {},
   "outputs": [
    {
     "name": "stdout",
     "output_type": "stream",
     "text": [
      "True\n"
     ]
    }
   ],
   "source": [
    "#Example 1\n",
    "\n",
    "print(\"2022\".isdecimal())"
   ]
  },
  {
   "cell_type": "code",
   "execution_count": 19,
   "id": "e4464f5b",
   "metadata": {},
   "outputs": [
    {
     "name": "stdout",
     "output_type": "stream",
     "text": [
      "False\n"
     ]
    }
   ],
   "source": [
    "#Example 2\n",
    "\n",
    "print(\"Data123\".isdecimal())"
   ]
  },
  {
   "cell_type": "markdown",
   "id": "9de1197d",
   "metadata": {},
   "source": [
    "Noted:\n",
    "\n",
    "* Example 2 false because in word \"Data123\" contain alphanumerical"
   ]
  },
  {
   "cell_type": "markdown",
   "id": "d358b14b",
   "metadata": {},
   "source": [
    "# istitle()"
   ]
  },
  {
   "cell_type": "markdown",
   "id": "d4f92d3e",
   "metadata": {},
   "source": [
    "This function will return True if the string contains a capital letter in each word and continues with lowercase letters. Otherwise, it will return a False value."
   ]
  },
  {
   "cell_type": "code",
   "execution_count": 21,
   "id": "709f6c29",
   "metadata": {},
   "outputs": [
    {
     "name": "stdout",
     "output_type": "stream",
     "text": [
      "True\n"
     ]
    }
   ],
   "source": [
    "#Example 1\n",
    "\n",
    "print(\"Indonesia Country\".istitle())"
   ]
  },
  {
   "cell_type": "code",
   "execution_count": 20,
   "id": "10c0de85",
   "metadata": {},
   "outputs": [
    {
     "name": "stdout",
     "output_type": "stream",
     "text": [
      "False\n"
     ]
    }
   ],
   "source": [
    "#Example 2\n",
    "\n",
    "print(\"Indonesia country\".istitle())"
   ]
  },
  {
   "cell_type": "markdown",
   "id": "ca9641c4",
   "metadata": {},
   "source": [
    "Noted:\n",
    "\n",
    "* Example 2 is false because in word \"country\" not contains a capital letter"
   ]
  },
  {
   "cell_type": "markdown",
   "id": "facaa475",
   "metadata": {},
   "source": [
    "# isspace()"
   ]
  },
  {
   "cell_type": "markdown",
   "id": "4e75bc52",
   "metadata": {},
   "source": [
    "This function will return True if the string contains only whitespace characters. Otherwise, it will return False"
   ]
  },
  {
   "cell_type": "code",
   "execution_count": 25,
   "id": "57d6aa8d",
   "metadata": {},
   "outputs": [
    {
     "name": "stdout",
     "output_type": "stream",
     "text": [
      "True\n"
     ]
    }
   ],
   "source": [
    "#Example 1\n",
    "\n",
    "print(\" \".isspace())"
   ]
  },
  {
   "cell_type": "code",
   "execution_count": 1,
   "id": "4f2b3807",
   "metadata": {},
   "outputs": [
    {
     "name": "stdout",
     "output_type": "stream",
     "text": [
      "False\n"
     ]
    }
   ],
   "source": [
    "#Example 2\n",
    "\n",
    "print(\"Python\".isspace())"
   ]
  },
  {
   "cell_type": "markdown",
   "id": "9ea5ac05",
   "metadata": {},
   "source": [
    "# Challenge "
   ]
  },
  {
   "cell_type": "markdown",
   "id": "e4dd4615",
   "metadata": {},
   "source": [
    "Create a simple syntax for string data input provided that all characters are capital letters otherwise, enter it again."
   ]
  },
  {
   "cell_type": "code",
   "execution_count": 6,
   "id": "b59184a8",
   "metadata": {},
   "outputs": [
    {
     "name": "stdout",
     "output_type": "stream",
     "text": [
      "Please input your name:\n",
      "YESAYA\n",
      "Hello Welcome YESAYA\n"
     ]
    }
   ],
   "source": [
    "while True:\n",
    "    print('Please input your name:')\n",
    "    name = input()\n",
    "    if name.isupper():\n",
    "        print(\"Hello Welcome\", name)\n",
    "        break\n",
    "    print('Please correct your name.')"
   ]
  },
  {
   "cell_type": "code",
   "execution_count": null,
   "id": "462d5e54",
   "metadata": {},
   "outputs": [],
   "source": []
  },
  {
   "cell_type": "code",
   "execution_count": null,
   "id": "fad71af8",
   "metadata": {},
   "outputs": [],
   "source": []
  }
 ],
 "metadata": {
  "kernelspec": {
   "display_name": "Python 3 (ipykernel)",
   "language": "python",
   "name": "python3"
  },
  "language_info": {
   "codemirror_mode": {
    "name": "ipython",
    "version": 3
   },
   "file_extension": ".py",
   "mimetype": "text/x-python",
   "name": "python",
   "nbconvert_exporter": "python",
   "pygments_lexer": "ipython3",
   "version": "3.9.12"
  }
 },
 "nbformat": 4,
 "nbformat_minor": 5
}
